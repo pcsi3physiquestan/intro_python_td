{
 "cells": [
  {
   "cell_type": "markdown",
   "id": "amino-excuse",
   "metadata": {},
   "source": [
    "# Eléments de bases pour programmer en Python\n",
    "\n",
    "Voici les exercices d'entraînement qui font suite [aux présentations sur les bases et les bibliothèques scientifiques](https://pcsi3physiquestan.github.io/intro_python).\n",
    "\n",
    "\n",
    "\n",
    "\n",
    "```{toctree}\n",
    ":hidden:\n",
    ":titlesonly:\n",
    ":numbered: True\n",
    ":caption: Réviser les bases\n",
    "\n",
    "notebook/exo_general\n",
    "```\n",
    "\n",
    "\n",
    "```{toctree}\n",
    ":hidden:\n",
    ":titlesonly:\n",
    ":numbered: True\n",
    ":caption: Bilbiothèques scientifiques\n",
    "\n",
    "notebook/exo_science\n",
    "```\n",
    "\n",
    "\n",
    "```{toctree}\n",
    ":hidden:\n",
    ":titlesonly:\n",
    ":numbered: True\n",
    ":caption: Plus loin avec numpy\n",
    "\n",
    "notebook/exo_polyfit\n",
    "notebook/exo_science_2\n",
    "```\n",
    "\n",
    "\n",
    "```{toctree}\n",
    ":hidden:\n",
    ":titlesonly:\n",
    ":numbered: True\n",
    ":caption: Compléments\n",
    "\n",
    "notebook/complement\n",
    "```"
   ]
  }
 ],
 "metadata": {
  "jupytext": {
   "encoding": "# -*- coding: utf-8 -*-",
   "formats": "ipynb,md:myst",
   "split_at_heading": true,
   "text_representation": {
    "extension": ".md",
    "format_name": "myst",
    "format_version": 0.13,
    "jupytext_version": "1.10.3"
   }
  },
  "kernelspec": {
   "display_name": "Python 3",
   "language": "python",
   "name": "python3"
  },
  "language_info": {
   "codemirror_mode": {
    "name": "ipython",
    "version": 3
   },
   "file_extension": ".py",
   "mimetype": "text/x-python",
   "name": "python",
   "nbconvert_exporter": "python",
   "pygments_lexer": "ipython3",
   "version": "3.9.2"
  },
  "source_map": [
   15
  ]
 },
 "nbformat": 4,
 "nbformat_minor": 5
}