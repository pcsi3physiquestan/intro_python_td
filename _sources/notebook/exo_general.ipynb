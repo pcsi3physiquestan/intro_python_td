{
 "cells": [
  {
   "cell_type": "markdown",
   "id": "solved-seven",
   "metadata": {},
   "source": [
    "# S'entraîner.\n",
    "La partie donnant les concepts pour faire ces exercices est [accessible ici](https://pcsi3physiquestan.github.io/intro_python/notebook/bases_intro.html).\n",
    "\n",
    "## Analyser un code\n",
    "\n",
    "````{admonition} Exercice : Fonction et boucle\n",
    ":class: tip\n",
    "\n",
    "Observez le code suivant puis répondre aux questions\n",
    "\n",
    "```{code-block}\n",
    "def somme_carre(n):\n",
    "  S = 0\n",
    "  for i in range(n):\n",
    "    S = S + i**2\n",
    "  return S\n",
    "\n",
    "print(somme_carre(5))\n",
    "```\n",
    "\n",
    "1. Vrai/Faux : `n` doit être un entier ou l'appel de cette fonction renverra une erreur.\n",
    "2. Combien de fois la boucle `for` va-t-elle être parcourue ?\n",
    "3. Qu'affiche la dernière instruction ?\n",
    "\n",
    "\n",
    "```{toggle} Cliquer pour afficher les réponses __après réflexion.__\n",
    "1. __Vrai__ car la fonction `range` demande comme argument un entier.\n",
    "2. `range(n)` crée une suite de nombres entiers de 0 à n-1. La boucle sera donc parcourue __n fois__.\n",
    "3. On somme les carré de 0 à 4 soit $0 + 1 + 4 + 9 + 16 = 30$\n",
    "\n",
    "```\n",
    "\n",
    "````\n",
    "\n",
    "````{admonition} Exercice :  Utiliser des listes\n",
    ":class: tip\n",
    "Observez le code suivant puis répondre aux questions\n",
    "```{code-block}\n",
    "L1 = [1, 2, 3]\n",
    "L2 = [4, 5, 6]\n",
    "L = []\n",
    "for i in range(len(L1)):\n",
    "  L = L.append(L1[i] + L2[i])\n",
    "\n",
    "print(len(L1))\n",
    "print(L1 + L2)\n",
    "print(L)\n",
    "```\n",
    "\n",
    "1. Préciser pour chaque instruction `print` ce qui sera affiché.\n",
    "\n",
    "```{toggle} Cliquer pour afficher les réponses __après réflexion.__\n",
    "1. `print(len(L1))` affiche la longueur de la liste `L1`, soit `3`\n",
    "2. `print(L1 + L2)` : l'opérateur `+` entre deux listes concatène les deux listes. On affiche donc `[1, 2, 3, 4, 5, 6]`\n",
    "3. `print(L)` : La boucle somme deux à deux les éléments de `L1` et `L2` et stocke le résultat comme élément de la liste `L` on affiche donc : `[5, 7, 9]`\n",
    "```\n",
    "````\n",
    "\n",
    "## Coder soi-même\n",
    "\n",
    "Vous allez devoir écrire votre propre code. Commencez par :\n",
    "1. Ouvrir pyzo et créer un nouveau fichier _pour chaque exercice_. Enregistrez le dans un répertoire clair pour le retrouver ensuite (extension `.py` à la fin du fichier).\n",
    "2. Réfléchir à l'algorithme qu'on vous demande de créer.\n",
    "3. Ecrire la fonction demandée dans le fichier que vous avez créé.\n",
    "4. Dans le même fichier, écrire une série d'instructions pour vérifier que votre fonction fonctionne bien (cf. exercices).\n",
    "5. Exécuter le fichier (`Exécuter > Exécuter le contenu de l'onglet courant` ou `Ctrl + E`) et vérifier que vous obtenez ce qu'il faut. Comprendre les erreurs et les corriger si nécessaire. Vous trouverez [ici quelques conseils pour gérer les erreurs de codage.](erreurs)\n",
    "\n",
    "\n",
    "### Boucle simple\n",
    "\n",
    "````{admonition} Boucle simple\n",
    ":class: tip\n",
    "Vous devez créer deux fonctions qui prennent chacune comme argument un entier `n` et renvoient la somme des entiers compris entre 0 et `n` __inclus__.\n",
    "\n",
    "1. La première utilisera une boucle `for`\n",
    "2. La seconde utilisera une boucle `while`\n",
    "\n",
    "Tester ensuite votre fonction en affichant son retour pour $n = 0, 1, 2, 5$ et $100$. Les résultats pour ces valeurs sont donnés ci-dessous (cliquez sur la croix).\n",
    "````"
   ]
  },
  {
   "cell_type": "code",
   "execution_count": 1,
   "id": "corporate-length",
   "metadata": {
    "tags": [
     "remove-input",
     "hide-output"
    ]
   },
   "outputs": [
    {
     "name": "stdout",
     "output_type": "stream",
     "text": [
      "n=0 :  0\n",
      "n=1 :  1\n",
      "n=2 :  3\n",
      "n=5 :  15\n",
      "n=100 :  5050\n"
     ]
    }
   ],
   "source": [
    "def somme_carre(n):\n",
    "  s = 0\n",
    "  for i in range(1, n+1):\n",
    "    s += i\n",
    "  return s\n",
    "\n",
    "print(\"n=0 : \", somme_carre(0))\n",
    "print(\"n=1 : \", somme_carre(1))\n",
    "print(\"n=2 : \", somme_carre(2))\n",
    "print(\"n=5 : \", somme_carre(5))\n",
    "print(\"n=100 : \", somme_carre(100))"
   ]
  },
  {
   "cell_type": "markdown",
   "id": "unauthorized-midnight",
   "metadata": {},
   "source": [
    "### Choix d'une boucle\n",
    "\n",
    "````{admonition} Choix d'une boucle\n",
    ":class: tip\n",
    "Vous devez créer une fonction `somme_ks` qui prend chacune comme argument un entier `n` et renvoie la somme des entiers $k$ tels que $k + k^2 + k^3 \\leq n$.\n",
    "\n",
    "1. Pourquoi ne peut-on utiliser qu'un seul type de boucle ? Laquelle ?\n",
    "2. Proposer une fonction.\n",
    "\n",
    "Tester ensuite votre fonction en affichant son retour pour $n = 0, 2, 5, 100$ et $2000$. Les résultats pour ces valeurs sont donnés ci-dessous (cliquez sur la croix).\n",
    "````"
   ]
  },
  {
   "cell_type": "code",
   "execution_count": 2,
   "id": "encouraging-stretch",
   "metadata": {
    "tags": [
     "remove-input",
     "hide-output"
    ]
   },
   "outputs": [
    {
     "name": "stdout",
     "output_type": "stream",
     "text": [
      "n=0 :  0\n",
      "n=2 :  0\n",
      "n=5 :  1\n",
      "n=100 :  10\n",
      "n=2000 :  78\n"
     ]
    }
   ],
   "source": [
    "def somme_ks(n):\n",
    "  s = 0\n",
    "  i = 0\n",
    "  while i + i**2 + i**3 <= n:\n",
    "    s += i\n",
    "    i += 1\n",
    "  return s\n",
    "\n",
    "print(\"n=0 : \", somme_ks(0))\n",
    "print(\"n=2 : \", somme_ks(2))\n",
    "print(\"n=5 : \", somme_ks(5))\n",
    "print(\"n=100 : \", somme_ks(100))\n",
    "print(\"n=2000 : \", somme_ks(2000))"
   ]
  },
  {
   "cell_type": "markdown",
   "id": "touched-system",
   "metadata": {},
   "source": [
    "### Diviseurs\n",
    "````{admonition} Diviseurs\n",
    ":class: tip\n",
    "Ecrire une fonction `getDiv` qui prend un nombre entier `n` non nul et qui renvoie tous les diviseurs (même non premiers) de ce nombre sous forme de liste.\n",
    "\n",
    "Tester ensuite votre fonction en affichant son retour pour $n = 1, 4, 24, 47$ et $254$. Les résultats pour ces valeurs sont donnés ci-dessous (cliquez sur la croix).\n",
    "\n",
    "````"
   ]
  },
  {
   "cell_type": "code",
   "execution_count": 3,
   "id": "tracked-darwin",
   "metadata": {
    "tags": [
     "remove-input",
     "hide-output"
    ]
   },
   "outputs": [
    {
     "name": "stdout",
     "output_type": "stream",
     "text": [
      "n=1 :  [1]\n",
      "n=4 :  [1, 2, 4]\n",
      "n=24 :  [1, 2, 3, 4, 6, 8, 12, 24]\n",
      "n=47:  [1, 47]\n",
      "n=254 :  [1, 2, 127, 254]\n"
     ]
    }
   ],
   "source": [
    "def getDiv(n):\n",
    "    # Fonction qui renvoir tout les diviseurs d'un nombre n.\n",
    "    L = []\n",
    "    for i in range(1, n +1):\n",
    "        if n % i == 0:\n",
    "            L += [i]\n",
    "    return L\n",
    "\n",
    "print(\"n=1 : \", getDiv(1))\n",
    "print(\"n=4 : \", getDiv(4))\n",
    "print(\"n=24 : \", getDiv(24))\n",
    "print(\"n=47: \", getDiv(47))\n",
    "print(\"n=254 : \", getDiv(254))"
   ]
  }
 ],
 "metadata": {
  "jupytext": {
   "encoding": "# -*- coding: utf-8 -*-",
   "formats": "ipynb,md:myst",
   "split_at_heading": true,
   "text_representation": {
    "extension": ".md",
    "format_name": "myst",
    "format_version": 0.13,
    "jupytext_version": "1.10.3"
   }
  },
  "kernelspec": {
   "display_name": "Python 3",
   "language": "python",
   "name": "python3"
  },
  "language_info": {
   "codemirror_mode": {
    "name": "ipython",
    "version": 3
   },
   "file_extension": ".py",
   "mimetype": "text/x-python",
   "name": "python",
   "nbconvert_exporter": "python",
   "pygments_lexer": "ipython3",
   "version": "3.9.2"
  },
  "source_map": [
   15,
   97,
   112,
   126,
   141,
   152
  ]
 },
 "nbformat": 4,
 "nbformat_minor": 5
}