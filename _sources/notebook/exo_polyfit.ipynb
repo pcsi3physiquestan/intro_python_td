{
 "cells": [
  {
   "cell_type": "markdown",
   "id": "bulgarian-fault",
   "metadata": {},
   "source": [
    "# S'entraîner (régression linéaire)\n",
    "\n",
    "## Exemple simple\n",
    "On veut mesurer une capacité $C$ d'un condensateur. On étudie pour cela le régime libre d'un circuit RC avec une résistance $R$ variable. On mesure le temps caractéristique $\\tau$ pour différente valeur de $R$. On obtient les valeurs suivantes :"
   ]
  },
  {
   "cell_type": "code",
   "execution_count": 1,
   "id": "engaged-spelling",
   "metadata": {
    "tags": [
     "remove-input"
    ]
   },
   "outputs": [
    {
     "data": {
      "text/html": [
       "<style  type=\"text/css\" >\n",
       "</style><table id=\"T_d3bc0_\" ><thead>    <tr>        <th class=\"blank level0\" ></th>        <th class=\"col_heading level0 col0\" >R(Ohm)</th>        <th class=\"col_heading level0 col1\" >tau(micro s)</th>    </tr></thead><tbody>\n",
       "                <tr>\n",
       "                        <th id=\"T_d3bc0_level0_row0\" class=\"row_heading level0 row0\" >0</th>\n",
       "                        <td id=\"T_d3bc0_row0_col0\" class=\"data row0 col0\" >100.00</td>\n",
       "                        <td id=\"T_d3bc0_row0_col1\" class=\"data row0 col1\" >164.00</td>\n",
       "            </tr>\n",
       "            <tr>\n",
       "                        <th id=\"T_d3bc0_level0_row1\" class=\"row_heading level0 row1\" >1</th>\n",
       "                        <td id=\"T_d3bc0_row1_col0\" class=\"data row1 col0\" >150.00</td>\n",
       "                        <td id=\"T_d3bc0_row1_col1\" class=\"data row1 col1\" >196.00</td>\n",
       "            </tr>\n",
       "            <tr>\n",
       "                        <th id=\"T_d3bc0_level0_row2\" class=\"row_heading level0 row2\" >2</th>\n",
       "                        <td id=\"T_d3bc0_row2_col0\" class=\"data row2 col0\" >200.00</td>\n",
       "                        <td id=\"T_d3bc0_row2_col1\" class=\"data row2 col1\" >275.00</td>\n",
       "            </tr>\n",
       "            <tr>\n",
       "                        <th id=\"T_d3bc0_level0_row3\" class=\"row_heading level0 row3\" >3</th>\n",
       "                        <td id=\"T_d3bc0_row3_col0\" class=\"data row3 col0\" >250.00</td>\n",
       "                        <td id=\"T_d3bc0_row3_col1\" class=\"data row3 col1\" >294.00</td>\n",
       "            </tr>\n",
       "            <tr>\n",
       "                        <th id=\"T_d3bc0_level0_row4\" class=\"row_heading level0 row4\" >4</th>\n",
       "                        <td id=\"T_d3bc0_row4_col0\" class=\"data row4 col0\" >300.00</td>\n",
       "                        <td id=\"T_d3bc0_row4_col1\" class=\"data row4 col1\" >354.00</td>\n",
       "            </tr>\n",
       "            <tr>\n",
       "                        <th id=\"T_d3bc0_level0_row5\" class=\"row_heading level0 row5\" >5</th>\n",
       "                        <td id=\"T_d3bc0_row5_col0\" class=\"data row5 col0\" >350.00</td>\n",
       "                        <td id=\"T_d3bc0_row5_col1\" class=\"data row5 col1\" >396.00</td>\n",
       "            </tr>\n",
       "            <tr>\n",
       "                        <th id=\"T_d3bc0_level0_row6\" class=\"row_heading level0 row6\" >6</th>\n",
       "                        <td id=\"T_d3bc0_row6_col0\" class=\"data row6 col0\" >400.00</td>\n",
       "                        <td id=\"T_d3bc0_row6_col1\" class=\"data row6 col1\" >481.00</td>\n",
       "            </tr>\n",
       "            <tr>\n",
       "                        <th id=\"T_d3bc0_level0_row7\" class=\"row_heading level0 row7\" >7</th>\n",
       "                        <td id=\"T_d3bc0_row7_col0\" class=\"data row7 col0\" >450.00</td>\n",
       "                        <td id=\"T_d3bc0_row7_col1\" class=\"data row7 col1\" >497.00</td>\n",
       "            </tr>\n",
       "            <tr>\n",
       "                        <th id=\"T_d3bc0_level0_row8\" class=\"row_heading level0 row8\" >8</th>\n",
       "                        <td id=\"T_d3bc0_row8_col0\" class=\"data row8 col0\" >500.00</td>\n",
       "                        <td id=\"T_d3bc0_row8_col1\" class=\"data row8 col1\" >558.00</td>\n",
       "            </tr>\n",
       "    </tbody></table>"
      ],
      "text/plain": [
       "<pandas.io.formats.style.Styler at 0x7fa98cb93f10>"
      ]
     },
     "execution_count": 1,
     "metadata": {},
     "output_type": "execute_result"
    }
   ],
   "source": [
    "import numpy as np\n",
    "import matplotlib.pyplot as plt\n",
    "import pandas as pd\n",
    "\n",
    "R = np.array([100, 150, 200, 250, 300, 350, 400, 450, 500])\n",
    "tau = np.array([164, 196, 275, 294, 354, 396, 481, 497, 558])\n",
    "\n",
    "donnees = pd.DataFrame(\n",
    "    {\n",
    "        \"R(Ohm)\": [\"{:.2f}\".format(val) for val in R],\n",
    "        \"tau(micro s)\": [\"{:.2f}\".format(val) for val in tau],\n",
    "    }\n",
    ")\n",
    "\n",
    "donnees.style"
   ]
  },
  {
   "cell_type": "markdown",
   "id": "instructional-digit",
   "metadata": {},
   "source": [
    "Un bilan sur les sources d'incertitude amène aux conclusions suivantes :\n",
    "* l'incertitude sur le temps caratéristique est de 5%\n",
    "* l'incertitude sur les résistances sont de 2%\n",
    "\n",
    "````{admonition} Détermination de C\n",
    ":class: tip\n",
    "1. Représenter $\\tau$ en fonction de R avec les croix d'incertitudes. On utilisera la fonction `errorbar`.\n",
    "2. Vérifier que le modèle attendu $\\tau = RC$ est visuellement possible.\n",
    "3. Estimer la capacitance $C$ par régression linéaire puis représenter la droite d'ajustement affine.\n",
    "4. Une méthode qualitative pour vérifier si le modèle est cohérent avec les incertitudes de mesure est de vérifier si la droite d'ajustement passe bien par les barre d'incertitude. Tester ici la cohérence du modèle.\n",
    "5. La relation étant linéaire, on peut aussi estimer $C$ comme la moyenne des rapport $\\frac{\\tau}{R}$. Estimer la capacitance de cette manière et vérifier qu'on obtient le même ordre de grandeur.\n",
    "```{tip}\n",
    "On rappelle la fonction pour tracer des points de mesures avec des barres d'erreurs :\n",
    "\n",
    "`errorbar(x, y, yerr=inc_y, options...)`\n",
    "\n",
    "```\n",
    "````\n",
    "\n",
    "## Utiliser un modèle ajusté\n",
    "\n",
    "On veut mesurer la concentration de l'additif alimentaire E131 (bleu patenté) dans des bonbons gélifiées. On réalise pour cela un dosage par absorbance, c'est-à-dire qu'on va mesurer l'absorbance $A_{640nm}$ à la longueur d'onde $640nm$ de plusieurs solutions contenant du bleu de patenté à des concentrations connues $C_i$. En mesurant ensuite l'absorbance d'une solution contenant un bonbon gélifié bleu dissous, on déterminera sa concentration.\n",
    "\n",
    "> __Fabrication des solutions étalons :__\n",
    "> \n",
    "> On utilise une solution mère de concentration $C_0 = (2.04 \\pm 0.01) \\times 10^{-5} mol.L^{-1}$. On prélève un volume $V_1$ (inférieur ou égal à 10mL) qu'on complète par un volume $V_2$ d'eau distillée tel que $V_T= V_1 + V_2 = 10mL$. La concentration $C_i$ dans un tube où $V_1 = V_{1i}$ est alors :\n",
    ">\n",
    "> $$C_i = C_0 \\frac{V_{1i}}{V_T}$$\n",
    ">\n",
    "> Le mode opératoire utilisé et l'analyse des sources d'incertitudes amène à une expression de l'incertitude sur $C_i$ :\n",
    ">\n",
    "> $$u(C_i) = \\frac{C_0 u_i}{V_T} \\sqrt{1 + {\\frac{C_i}{C_0}}^2}$$\n",
    "> avec $u_i = 0.1 mL$ (l'incertitude sur la concentration a une influence négligeable).\n",
    "\n",
    "> __Loi de Beer-Lambert :__\n",
    ">\n",
    "> La loi de Beer-Lambert prévoit une relation linéaire entre la concentration d'une solution colorée et l'absorbance de cette solution : \n",
    ">\n",
    "> $$A_{640nm, i} = \\alpha_{E131, 640nm} C_i$$\n",
    ">\n",
    "> Les mesures d'absorbances seront considérées comme d'incertitude négligeable.\n",
    "\n",
    "On donne les données mesurées :"
   ]
  },
  {
   "cell_type": "code",
   "execution_count": 2,
   "id": "liable-chess",
   "metadata": {
    "tags": [
     "remove-input"
    ]
   },
   "outputs": [
    {
     "data": {
      "text/html": [
       "<style  type=\"text/css\" >\n",
       "</style><table id=\"T_cc1a7_\" ><thead>    <tr>        <th class=\"blank level0\" ></th>        <th class=\"col_heading level0 col0\" >Vi(mL)</th>        <th class=\"col_heading level0 col1\" >A(SI)</th>    </tr></thead><tbody>\n",
       "                <tr>\n",
       "                        <th id=\"T_cc1a7_level0_row0\" class=\"row_heading level0 row0\" >0</th>\n",
       "                        <td id=\"T_cc1a7_row0_col0\" class=\"data row0 col0\" >1.00</td>\n",
       "                        <td id=\"T_cc1a7_row0_col1\" class=\"data row0 col1\" >0.13</td>\n",
       "            </tr>\n",
       "            <tr>\n",
       "                        <th id=\"T_cc1a7_level0_row1\" class=\"row_heading level0 row1\" >1</th>\n",
       "                        <td id=\"T_cc1a7_row1_col0\" class=\"data row1 col0\" >2.50</td>\n",
       "                        <td id=\"T_cc1a7_row1_col1\" class=\"data row1 col1\" >0.43</td>\n",
       "            </tr>\n",
       "            <tr>\n",
       "                        <th id=\"T_cc1a7_level0_row2\" class=\"row_heading level0 row2\" >2</th>\n",
       "                        <td id=\"T_cc1a7_row2_col0\" class=\"data row2 col0\" >5.00</td>\n",
       "                        <td id=\"T_cc1a7_row2_col1\" class=\"data row2 col1\" >0.83</td>\n",
       "            </tr>\n",
       "            <tr>\n",
       "                        <th id=\"T_cc1a7_level0_row3\" class=\"row_heading level0 row3\" >3</th>\n",
       "                        <td id=\"T_cc1a7_row3_col0\" class=\"data row3 col0\" >7.50</td>\n",
       "                        <td id=\"T_cc1a7_row3_col1\" class=\"data row3 col1\" >1.27</td>\n",
       "            </tr>\n",
       "            <tr>\n",
       "                        <th id=\"T_cc1a7_level0_row4\" class=\"row_heading level0 row4\" >4</th>\n",
       "                        <td id=\"T_cc1a7_row4_col0\" class=\"data row4 col0\" >10.00</td>\n",
       "                        <td id=\"T_cc1a7_row4_col1\" class=\"data row4 col1\" >1.76</td>\n",
       "            </tr>\n",
       "    </tbody></table>"
      ],
      "text/plain": [
       "<pandas.io.formats.style.Styler at 0x7fa96d1ba610>"
      ]
     },
     "execution_count": 2,
     "metadata": {},
     "output_type": "execute_result"
    }
   ],
   "source": [
    "Vi = np.array([1, 2.50, 5.00, 7.50, 10.00])\n",
    "Ai = np.array([0.128, 0.428, 0.833, 1.267, 1.765])\n",
    "\n",
    "donnees = pd.DataFrame(\n",
    "    {\n",
    "        \"Vi(mL)\": [\"{:.2f}\".format(val) for val in Vi],\n",
    "        \"A(SI)\": [\"{:.2f}\".format(val) for val in Ai],\n",
    "    }\n",
    ")\n",
    "\n",
    "donnees.style"
   ]
  },
  {
   "cell_type": "markdown",
   "id": "valued-chassis",
   "metadata": {},
   "source": [
    "````{admonition} Dosage par absorbance\n",
    "1. Créer deux vecteur numpy contenant les volumes $V_{1i}$ et les absorbances $A_i$ puis obtenir deux vecteurs numpy contenant les concentration $C_i$ et les incertitudes $u(C_i)$.\n",
    "2. Représenter graphiquement $C_i$ en fonction de $A_i$ et vérifier que le modèle linéaire proposé par la loi de Beer-Lambert n'est pas aberrant. _On utilisera la fonction `errorbar` pour représenter les barres d'incertitudes associées aux concentrations_.\n",
    "3. Réaliser une régression linéaire sans tenir compte des incertitudes sur les concentrations et tracer la droite d'ajustement affine sur le même graphique que précédemment. (_Supprimer le `plt.show()` précédent_).\n",
    "4. Une méthode qualitative pour vérifier si le modèle est cohérent avec les incertitudes de mesure est de vérifier si la droite d'ajustement passe bien par les barre d'incertitude. Tester ici la cohérence du modèle.\n",
    "5. On dilue un bonbon dans de l'eau diluée de sorte que le volume de liquide (avec le bonbon) soit $V_f = 50.00 mL$. On mesure alors l'absorbance de la solution ainsi réalisée, on obtient $A_{649nm, f} = 0.665 SI$. Utiliser Python comme calculatrice et les données du modèle ajuster pour déterminer la quantité maximale de bonbons bleus qu'on peut manger par jour sans dépasser la DJA (Dose journalière admissible) de l'additif E131 qui est de 2.5mg par kg de masse corporelle. On donne la masse molaire du bleu patenté $M = 582,66 g.mol^{-1}$.\n",
    "\n",
    "```{note}\n",
    "Le nombre de bonbon trouvé ne tient pas compte de la quantité de sucre ingurgitée...\n",
    "```\n",
    "\n",
    "\n",
    "````"
   ]
  },
  {
   "cell_type": "code",
   "execution_count": 3,
   "id": "color-qatar",
   "metadata": {
    "tags": [
     "remove-input",
     "hide-output"
    ]
   },
   "outputs": [
    {
     "data": {
      "image/png": "[encoded data removed]",
      "text/plain": [
       "<Figure size 432x288 with 1 Axes>"
      ]
     },
     "metadata": {
      "filenames": {
       "image/png": "/home/ubuntu/Dropbox/Enseignement prepas/approche_numeriques/intro_python_td/_build/jupyter_execute/notebook/exo_polyfit_5_0.png"
      },
      "needs_background": "light"
     },
     "output_type": "display_data"
    }
   ],
   "source": [
    "import numpy as np\n",
    "import matplotlib.pyplot as plt\n",
    "\n",
    "Vi = np.array([1, 2.50, 5.00, 7.50, 10.00])\n",
    "Ai = np.array([0.128, 0.428, 0.833, 1.267, 1.765])\n",
    "\n",
    "Vt = 10  # V_T en mL\n",
    "C0 = 2.04  # On n'introduit pas la puissance 10^-5\n",
    "u1 = 0.05  # Incertitude sur les volumes en mL\n",
    "\n",
    "\"\"\"Calcul des Ci et uCi. On utilise la vectorialisation des vecteurs numpy\"\"\"\n",
    "Ci = C0 * Vi / Vt  # Calcul des Ci, on n'introduit pas la puissance 10^-5\n",
    "uCi = C0 * u1 / Vt * np.sqrt(1 + (Ci / C0) ** 2)  # Calcul des uCi\n",
    "\n",
    "\n",
    "\"\"\"Tracé des points de mesures\"\"\"\n",
    "f, ax = plt.subplots()\n",
    "f.suptitle(\"Dosage par absorbance\")\n",
    "ax.set_xlabel(\"Absorbance à 640nm (SI)\")\n",
    "ax.set_ylabel(\"Concentration (10^-5 mol/L)\")\n",
    "\n",
    "ax.errorbar(Ai, Ci, yerr=uCi, label=\"Points de mesure\", marker='+', linestyle='', color='red')\n",
    "\n",
    "ax.legend()\n",
    "\n",
    "plt.show()  # A commenter si on veut afficher le graphique suivant."
   ]
  },
  {
   "cell_type": "code",
   "execution_count": 4,
   "id": "lyric-galaxy",
   "metadata": {
    "tags": [
     "remove-input",
     "hide-output"
    ]
   },
   "outputs": [
    {
     "name": "stdout",
     "output_type": "stream",
     "text": [
      "Le tracé précédent rend l'hypothèse linéaire possible.\n",
      "On réalise donc l'ajustement.\n",
      "-------------------\n",
      "Le modèle ajusté a pour équation :\n",
      "1.139855247404751 * A 0.05293999024471903\n",
      "Il faudra bien sûr réfléchir au nombre de chiffres significatifs à garder\n",
      "-------------------\n"
     ]
    },
    {
     "data": {
      "image/png": "[encoded data removed]",
      "text/plain": [
       "<Figure size 432x288 with 1 Axes>"
      ]
     },
     "execution_count": 4,
     "metadata": {
      "filenames": {
       "image/png": "/home/ubuntu/Dropbox/Enseignement prepas/approche_numeriques/intro_python_td/_build/jupyter_execute/notebook/exo_polyfit_6_1.png"
      }
     },
     "output_type": "execute_result"
    }
   ],
   "source": [
    "print(\"Le tracé précédent rend l'hypothèse linéaire possible.\")\n",
    "print(\"On réalise donc l'ajustement.\")\n",
    "\n",
    "p = np.polyfit(Ai, Ci, 1)  # Réalisation de l'ajustement affine\n",
    "\n",
    "print(\"-------------------\")\n",
    "print(\"Le modèle ajusté a pour équation :\")\n",
    "print(str(p[0]) + \" * A \" + str(p[1]))\n",
    "print(\"Il faudra bien sûr réfléchir au nombre de chiffres significatifs à garder\")\n",
    "print(\"-------------------\")\n",
    "\n",
    "Ci_adj = p[0] * Ai + p[1]  # On calcule les valeurs ajustées des concentrations.\n",
    "\n",
    "ax.plot(Ai, Ci_adj, label=\"Modèle ajusté\", linestyle=':', color='blue')\n",
    "\n",
    "ax.legend()  # Il faut réafficher la légende car on l'a modifiée\n",
    "\n",
    "\n",
    "f  # Inutile sauf avec un notebook Jupyter\n",
    "# plt.show() A décommenter si on n'utiliser pas Jupyter"
   ]
  },
  {
   "cell_type": "code",
   "execution_count": 5,
   "id": "commercial-endorsement",
   "metadata": {
    "tags": [
     "remove-input",
     "hide-output"
    ]
   },
   "outputs": [
    {
     "name": "stdout",
     "output_type": "stream",
     "text": [
      "---------------\n",
      "Le nombre maximal de bonbons qu'on peut manger est :\n",
      "741.0\n",
      "---------------\n"
     ]
    }
   ],
   "source": [
    "\"\"\"Le modèle étant plutôt cohérent avec les points de mesures, on va l'utiliser pour évaluer Cf\"\"\"\n",
    "Af = 0.665\n",
    "Cf = p[0] * Af + p[1]  # Concentration en bleu patenté dans la solution diluée\n",
    "\n",
    "Vf = 50e-3  # Volume de la solution diluée (en L)\n",
    "M = 582.66e-3  # Masse molaire du bleu patenté (en kg)\n",
    "\"\"\"Pour calculer la masse, on oublier la puissance 10^-5 dans la concentration\"\"\"\n",
    "mf = Cf * 1e-5 * Vf * M  # Calcul de la masse de bleu patenté dans un bonbon (en kg)\n",
    "\n",
    "\n",
    "Mh = 70  # On choisit un humain de 70kg\n",
    "m_DJA = 2.5e-6  # DJA donnée par l'énoncé\n",
    "m_max = Mh * m_DJA  # Masse maximale de bleu patenté qu'on peut ingérer\n",
    "N_max = np.ceil(m_max / mf)  # Arrondi à l'entier supérieur\n",
    "\n",
    "print(\"---------------\")\n",
    "print(\"Le nombre maximal de bonbons qu'on peut manger est :\")\n",
    "print(N_max)\n",
    "print(\"---------------\")"
   ]
  }
 ],
 "metadata": {
  "jupytext": {
   "encoding": "# -*- coding: utf-8 -*-",
   "formats": "ipynb,md:myst",
   "split_at_heading": true,
   "text_representation": {
    "extension": ".md",
    "format_name": "myst",
    "format_version": 0.13,
    "jupytext_version": "1.10.3"
   }
  },
  "kernelspec": {
   "display_name": "Python 3",
   "language": "python",
   "name": "python3"
  },
  "language_info": {
   "codemirror_mode": {
    "name": "ipython",
    "version": 3
   },
   "file_extension": ".py",
   "mimetype": "text/x-python",
   "name": "python",
   "nbconvert_exporter": "python",
   "pygments_lexer": "ipython3",
   "version": "3.9.2"
  },
  "source_map": [
   15,
   22,
   40,
   86,
   101,
   118,
   149,
   174
  ]
 },
 "nbformat": 4,
 "nbformat_minor": 5
}