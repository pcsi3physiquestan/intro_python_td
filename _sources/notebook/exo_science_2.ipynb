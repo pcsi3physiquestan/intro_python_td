{
 "cells": [
  {
   "cell_type": "markdown",
   "id": "happy-event",
   "metadata": {},
   "source": [
    "# S'entraîner\n",
    "\n",
    "```{important}\n",
    "Une partie des exercices suivants utilisent des données expérimentales stockées dans des fichiers. Chaque exercice vous donnera le lien permettant de télécharger le fichier. Vous avez normalement créé un répertoire pour votre travail sous Python. Dans ce répertoire (ou le sous-répertoire où vous comptez créer vos fichier `.py` pour les exercices, créez un répertoire `donnees_exp` dans lesquelles vous téléchargerez les fichiers fournis.\n",
    "\n",
    "Vous devrez ensuite réfléchir au chemin relatif à utiliser dans vos scripts pour importer les données expérimentales de ces fichiers.\n",
    "```"
   ]
  },
  {
   "cell_type": "markdown",
   "id": "greatest-cartridge",
   "metadata": {},
   "source": [
    "## Utilisation de numpy.random\n",
    "```{admonition} Utilisation de numpy.random\n",
    ":class: tip\n",
    "Vous devez :\n",
    "1. Importer la sous-bibliothèque `numpy.random` dans l'espace nommé `rd` pour l'utiliser ensuite.\n",
    "2. Utiliser la fonction `uniform` pour créer un vecteur contenant $N = 1000000$ de tirages aléatoires entre 0 et 5.\n",
    "3. Obtenir alors le vecteur X contenant le carré de chaque valeur tirée précédemment.\n",
    "4. Tracer l'histogramme des valeurs de X. Le titre sera \"Distribution statistique\", il n'est pas utile d'afficher la légende.\n",
    "\n",
    "```\n",
    "\n",
    "```{dropdown} Quelques indices pour s'organiser\n",
    "* Vous avez besoin des autres bibliothèques scientifiques en plus de `numpy.random`. N'oubliez pas de les importer aussi.\n",
    "* Bien comprendre le fonctionnement de `uniform` pour l'utiliser.\n",
    "```\n",
    "\n",
    "Vous devriez obtenir le graphique suivant (Cliquez sur la croix. Cela peut __un peu__ varier puisqu'on fait des tirages aléatoires) :"
   ]
  },
  {
   "cell_type": "code",
   "execution_count": 1,
   "id": "fallen-staff",
   "metadata": {
    "tags": [
     "remove-input",
     "hide-output"
    ]
   },
   "outputs": [
    {
     "data": {
      "image/png": "[encoded data removed]",
      "text/plain": [
       "<Figure size 432x288 with 1 Axes>"
      ]
     },
     "metadata": {
      "filenames": {
       "image/png": "/home/ubuntu/Dropbox/Enseignement prepas/approche_numeriques/intro_python_td/_build/jupyter_execute/notebook/exo_science_2_2_0.png"
      },
      "needs_background": "light"
     },
     "output_type": "display_data"
    }
   ],
   "source": [
    "import matplotlib.pyplot  as plt\n",
    "import numpy as np\n",
    "import numpy.random as rd\n",
    "\n",
    "N = 1000000\n",
    "\n",
    "x = rd.uniform(0, 5, N)\n",
    "y = x * x\n",
    "\n",
    "f, ax = plt.subplots()\n",
    "f.suptitle(\"Distribution statistique\")\n",
    "\n",
    "ax.set_xlabel(\"Valeurs accessibles\")\n",
    "ax.set_ylabel(\"Fréquences\")\n",
    "\n",
    "ax.hist(y, bins='rice')\n",
    "\n",
    "plt.show()"
   ]
  },
  {
   "cell_type": "markdown",
   "id": "german-diamond",
   "metadata": {},
   "source": [
    "## Etude de données expérimentales\n",
    "````{admonition} Etude de données expérimentales\n",
    ":class: tip\n",
    "On étudie un circuit RC en régime libre. On a pris $R = 100k\\Omega$ et on veut mesurer la capacité $C$ grâce aux données expérimentales. Les données sont fournies dans le fichier `circuit_rc_decharge.dat` accessible par [ce lien](https://github.com/pcsi3physiquestan/donnees_exp/blob/main/circuit_rc.dat?raw=true).\n",
    "\n",
    "```{note}\n",
    "Si votre navigateur ouvre le fichier au lieu de le télécharger, faites un clic droit sur le lien et choisir `Enregistrer la cible du lien`)\n",
    "```\n",
    "\n",
    "Pour rappel, la tension $u_c$ aux bornes du condensateur est régit par l'équation différentielle :\n",
    "\n",
    "$$\n",
    "\\frac{\\rm{d}u_c}{\\rm{dt}} + \\frac{u_c}{RC} = 0\n",
    "$$\n",
    "\n",
    "Il a pour solution :\n",
    "\n",
    "$$\n",
    "u_c(t) = U_0 \\exp(-\\frac{t}{\\tau})\n",
    "$$\n",
    "\n",
    "avec $\\tau = RC$ et $U_0 = U(t=0)$\n",
    "\n",
    "On sait que $u_c(t > \\tau) < 0.37 U_0$.\n",
    "\n",
    "```{margin}\n",
    "Il est conseillé de vérifier votre travail au fur et à mesure avec par exemple des `print` réguliers.\n",
    "\n",
    "```\n",
    "\n",
    "1. Après avoir téléchargé le fichier de données et l'avoir déplacé dans le répertoire `donnees_exp`, l'ouvrir dans pyzo et observer son contenu. Quelles données expérimentales contient-il ?\n",
    "2. Créer un fichier script Python (faire attention à sa localisation) et commencer par y importer les bibliothèques numpy et matplotlib.pyplot. Ecrire ensuite les instructions important la colonne temps et la colonne tension (en binaire) dans deux vecteurs `temps` et `ucb`.\n",
    "3. La tension n'est pas données en volt mais est un nombre entier : l'équivalent décimal de sa représentation binaire. En vous servant de la description données dans le fichier de données, écrire une fonction `bin_to_volt` qui prend comme argument une valeur `b` en binaire et qui renvoie la valeur de tension correspondant en Volt. Utilisez la pour obtenir un vecteur numpy `uc` à partir de `ucb`\n",
    "4. Représenter, sur un graphique légendé et titré la courbe $u_c(t)$. L'allure est-elle conforme (visuellement) aux attentes théoriques ?\n",
    "5. En utilisant les informations données dans l'énoncé, écrire une fonction `estime_tau` qui prend en argument deux vecteurs numpy `t` et `u` et qui estime le temps `tau`. On admettra que $u(t)$ est bien décroissante et on pourra prendre la première valeur de $u$ comme valeur de $U_0$. Utiliser cette fonction pour obtenir une estimation de $\\tau$ puis de $C$.\n",
    "\n",
    "```{dropdown} Valeur constructeur\n",
    "La valeur annoncée par le constructeur est $C = 0.1 \\mu F$ mais en l'absence d'étude plus complète sur les incertitudes de mesure, on ne peut décider si la valeur que vous avez estimée est cohérente. Vous trouverez ci-dessous les valeurs à trouver (cliquer sur la croix).\n",
    "```\n",
    "````"
   ]
  },
  {
   "cell_type": "code",
   "execution_count": 2,
   "id": "elder-testing",
   "metadata": {
    "tags": [
     "remove-input",
     "hide-output"
    ]
   },
   "outputs": [
    {
     "data": {
      "image/png": "[encoded data removed]",
      "text/plain": [
       "<Figure size 432x288 with 1 Axes>"
      ]
     },
     "metadata": {
      "filenames": {
       "image/png": "/home/ubuntu/Dropbox/Enseignement prepas/approche_numeriques/intro_python_td/_build/jupyter_execute/notebook/exo_science_2_4_0.png"
      },
      "needs_background": "light"
     },
     "output_type": "display_data"
    },
    {
     "name": "stdout",
     "output_type": "stream",
     "text": [
      "10700.0\n",
      "11000.0\n",
      "Valeur estimée de tau : 10850.0\n",
      "Valeur estimée de C : 1.085e-07\n",
      "Tous les chiffres ne sont pas forcément significatifs...\n"
     ]
    }
   ],
   "source": [
    "\"\"\"Les libraires ont déjà été importées à l'exercice précédent\"\"\"\n",
    "temps, ucb = np.loadtxt('Sf6/circuit_rc.dat', skiprows=7, delimiter=\";\", unpack=True)  # Importation des données\n",
    "\n",
    "def bin_to_volt(u):\n",
    "\t\"\"\"Fonction qui transforme une valeur 0-255 en valeur de tension.\"\"\"\n",
    "\tB_MAX = 1023\n",
    "\tU_MAX = 5\n",
    "\tB_MIN = 0\n",
    "\tU_MIN = 0\n",
    "\ttension = (u - B_MIN) / (B_MAX - B_MIN) * (U_MAX - U_MIN) + U_MIN\n",
    "\treturn tension\n",
    "\n",
    "uc = bin_to_volt(ucb)\n",
    "\n",
    "\n",
    "\"\"\"Tracé de uc(t)\"\"\"\n",
    "f, ax = plt.subplots()\n",
    "f.suptitle(\"Etude de la décharge d'un RC\")\n",
    "ax.set_xlabel('t(microsecondes)')\n",
    "ax.set_ylabel('uc(V)')\n",
    "\n",
    "ax.plot(temps, uc, label='uc(t)')\n",
    "\n",
    "ax.legend()\n",
    "plt.show()\n",
    "\n",
    "\"\"\"Détermination de tau\"\"\"\n",
    "U0 = uc[0]  # Tension initiale\n",
    "i = 0\n",
    "while uc[i] > 0.37 * U0 and i < len(uc):  # Test des 37%\n",
    "    i = i + 1\n",
    "print(temps[i])  # Temps juste avant d'invalider la condition\n",
    "print(temps[i+1])  # Temps juste après invalidation\n",
    "\n",
    "tau = (temps[i] + temps[i+1]) / 2  # On prend la moyenne des deux\n",
    "R = 1e5  # Valeur de R\n",
    "C = tau / R / 1e6  # (tau était en microsecondes)\n",
    "\n",
    "print(\"Valeur estimée de tau :\", tau)\n",
    "print(\"Valeur estimée de C :\", C)\n",
    "print(\"Tous les chiffres ne sont pas forcément significatifs...\")"
   ]
  },
  {
   "cell_type": "markdown",
   "id": "ruled-wagner",
   "metadata": {},
   "source": [
    "## Expériences multiples\n",
    "````{admonition} Expériences multiples\n",
    ":class: tip\n",
    "On reprend l'exemple précédent (même valeurs de R et C) mais cette fois le montage réalisé au moyen d'un microcontrolleur Arduino a permis d'automatiser la mesure de la constante $\\tau$. On a ainsi réalisé $N$ décharges de C et le microcontrolleur a été programmé pour mesurer à chaque fois $\\tau$ et le transmettre à l'ordinateur. Un programme non présenté ici a stocké les valeurs de $\\tau$ dans un fichier accessible à [ce lien](https://github.com/pcsi3physiquestan/donnees_exp/blob/main/circuit_rc_auto.dat?raw=true).\n",
    "\n",
    "```{note}\n",
    "Si votre navigateur ouvre le fichier au lieu de le télécharger, faites un clic droit sur le lien et choisir `Enregistrer la cible du lien`)\n",
    "```\n",
    "\n",
    "1. Après avoir téléchargé le fichier de données et l'avoir déplacé dans le répertoire `donnees_exp`, l'ouvrir dans pyzo et observer son contenu. Quelles données expérimentales contient-il ?\n",
    "2. Créer un fichier script Python (faire attention à sa localisation) et commencer par y importer les bibliothèques numpy et matplotlib.pyplot. Ecrire ensuite les instructions important la colonne tau dans un vecteur `taus`. Afficher ensuite en une seule instruction la valeur du nombre N de décharges qui ont été réalisées.\n",
    "3. Créer un graphique représentant l'histogramme des valeurs de $\\tau$ mesurées. Observe-t-on des valeurs assurément problèmatiques ?\n",
    "4. Utiliser les fonctions de numpy pour estimer la valeur moyennes des mesures de $\\tau$ ainsi que l'écart-type des mesures. Utiliser la valeur moyenne de $\\tau$ pour obtenir une estimation de la capacitance $C$.\n",
    "\n",
    "````"
   ]
  },
  {
   "cell_type": "code",
   "execution_count": 3,
   "id": "dominican-roller",
   "metadata": {
    "tags": [
     "remove-input",
     "hide-output"
    ]
   },
   "outputs": [
    {
     "name": "stdout",
     "output_type": "stream",
     "text": [
      "Nombre de mesures : 1000\n"
     ]
    },
    {
     "data": {
      "image/png": "[encoded data removed]",
      "text/plain": [
       "<Figure size 432x288 with 1 Axes>"
      ]
     },
     "metadata": {
      "filenames": {
       "image/png": "/home/ubuntu/Dropbox/Enseignement prepas/approche_numeriques/intro_python_td/_build/jupyter_execute/notebook/exo_science_2_6_1.png"
      },
      "needs_background": "light"
     },
     "output_type": "display_data"
    },
    {
     "name": "stdout",
     "output_type": "stream",
     "text": [
      "Tau moyen :  9985.208\n",
      "Ecart-type :  27.001144379410995\n",
      "Tous les chiffres ne sont pas forcément significatifs...\n",
      "Valeur estimée de C : 9.985208000000001e-08\n"
     ]
    }
   ],
   "source": [
    "taus = np.loadtxt('Sf6/circuit_rc_auto.dat', skiprows=7, delimiter=\",\")  # Importation des données\n",
    "\n",
    "\n",
    "print(\"Nombre de mesures :\", len(taus))\n",
    "\n",
    "f, ax = plt.subplots()\n",
    "f.suptitle(\"Etude de la décharge d'un RC\")\n",
    "ax.set_xlabel('tau(microsecondes)')\n",
    "ax.set_ylabel('Fréquence')\n",
    "\n",
    "ax.hist(taus)\n",
    "\n",
    "plt.show()\n",
    "\n",
    "\"\"\"Calcul de la moyenne et écart-type\"\"\"\n",
    "tau_m = np.mean(taus)\n",
    "tau_u = np.std(taus, ddof=1)\n",
    "\n",
    "print(\"Tau moyen : \", tau_m)\n",
    "print(\"Ecart-type : \", tau_u)\n",
    "print(\"Tous les chiffres ne sont pas forcément significatifs...\")\n",
    "\n",
    "R = 1e5  # Valeur de R\n",
    "C = tau_m / R / 1e6  # (tau était en microsecondes)\n",
    "print(\"Valeur estimée de C :\", C)"
   ]
  },
  {
   "cell_type": "markdown",
   "id": "environmental-asset",
   "metadata": {},
   "source": [
    "## Célérité des ultrasons\n",
    "\n",
    "Cet exercice est un peu plus complet. Veillez à bien comprendre ce qui a été fait précédemment.\n",
    "\n",
    "````{admonition} Célérité des ultrasons\n",
    ":class: tip\n",
    "Le but est d'étudier la propagation des ultrasons dans l'air pour estimer leur célérité. Grâce à un microcontrolleur (Arduino), on a réalisé un grand nombre de mesures (environ 1000) du temps de vol $\\Delta t$ des ultrasons pour plusieurs distances différentes $2D$ (on a réalisé un aller-retour par réflexion sur un obstacle) afin d'estimer pour chaque distance la célérité moyenne $c = {2D \\over \\Delta t(D)}$. On fera alors la moyenne des célérités sur toutes les distances pour estimer la célérité des ultrasons dans l'air.\n",
    "\n",
    "Le fichier de données est à télécharger à [ce lien](https://github.com/pcsi3physiquestan/donnees_exp/blob/main/vitesse_son_2.dat?raw=true).\n",
    "\n",
    "```{note}\n",
    "Si votre navigateur ouvre le fichier au lieu de le télécharger, faites un clic droit sur le lien et choisir `Enregistrer la cible du lien`)\n",
    "```\n",
    "\n",
    "1. Après avoir téléchargé le fichier de données et l'avoir déplacé dans le répertoire `donnees_exp`, l'ouvrir dans pyzo et observer son contenu. Quelles données expérimentales contient-il ?\n",
    "2. Vous avez dû remarquer que la forme du tableau de données n'est pas comme les précédents. Ecrire une série d'instructions qui charge les données expérimentales dans un tableau. On traitera dans une boucle les données pour chaque distance.\n",
    "3. Créer un graphique et y tracer, pour chaque distance l'histogramme des valeurs mesurées. On prendra soin de bien légender chaque histogramme par sa distance. __Vous DEVEZ utiliser une boucle qui puisse s'adapter à un autre fichier de données qui aurait la même forme mais pas forcément les mêmes distances (ni le même nombre de distances étudiées).__ _Quelques informations utiles sont données à la fin de l'exercice._\n",
    "4. Observer les histogrammes, vous devriez observer que certaines mesures sont _clairement aberrantes_. Nous allons proposées une méthode de sélection des valeurs acceptables.\n",
    "\n",
    "La méthode de sélection (non expliquée ici) consiste à calculer la moyenne $\\Delta t_m (D)$ et l'écart-type $\\sigma (D)$ des valeurs de temps de vol pour une distance $D$ puis parcourir l'ensemble des valeurs mesurées $\\Delta t_i (D)$ pour la distance $D$.\n",
    "* Si l'écart à la moyenne $\\left\\vert (\\Delta t_i (D) - \\Delta t_m (D) \\right\\vert$ est inférieure à 2 écart-type ($2 \\sigma (D)$), alors on garde la valeur.\n",
    "* Si l'écart à la moyenne $\\left\\vert (\\Delta t_i (D) - \\Delta t_m (D) \\right\\vert$ est supérieure à 2 écart-type ($2 \\sigma (D)$), alors on enlève la valeur.\n",
    "\n",
    "5. Ecrire une fonction qui prend comme argument un vecteur numpy `u` et qui renvoie un vecteur numpy `u_sel` ne contenant que les valeurs acceptables.\n",
    "6. Pour chaque distance $D$ (toujours avec la contrainte de devoir s'adapter à un autre fichier de mesure), sélectionner les valeurs à garder puis calculer le temps de vol moyen puis la célérité du son associée $c(D)$. Stocker cette célérité dans un vecteur numpy `cs`.\n",
    "7. Estimer la moyenne de `cs` comme une estimation de la célérité des ultrasons. Sachant qu'elle est à peu près identique à la célérité du son dans l'air, vérifier si l'ordre de grandeur obtenu est correct. Sans estimation des incertitudes de mesures, on se limitera à une vérification de l'ordre de grandeur.\n",
    "\n",
    "_Compléments utiles_:\n",
    "* L'option `label` ne prend comme argument qu'une chaine de caractère. Vous pouvez transformer un flottant ou un entier en chaine de caractère `x` par `str(x)`. Vous pouvez aussi concaténer cette chain avec d'autres : `str(x) + \" cm\"`.\n",
    "````"
   ]
  }
 ],
 "metadata": {
  "jupytext": {
   "encoding": "# -*- coding: utf-8 -*-",
   "formats": "ipynb,md:myst",
   "split_at_heading": true,
   "text_representation": {
    "extension": ".md",
    "format_name": "myst",
    "format_version": 0.13,
    "jupytext_version": "1.10.3"
   }
  },
  "kernelspec": {
   "display_name": "Python 3",
   "language": "python",
   "name": "python3"
  },
  "language_info": {
   "codemirror_mode": {
    "name": "ipython",
    "version": 3
   },
   "file_extension": ".py",
   "mimetype": "text/x-python",
   "name": "python",
   "nbconvert_exporter": "python",
   "pygments_lexer": "ipython3",
   "version": "3.9.2"
  },
  "source_map": [
   15,
   25,
   45,
   66,
   109,
   154,
   172,
   201
  ]
 },
 "nbformat": 4,
 "nbformat_minor": 5
}